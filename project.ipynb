{
 "cells": [
  {
   "cell_type": "code",
   "execution_count": 1,
   "metadata": {},
   "outputs": [],
   "source": [
    "import pandas as pd\n",
    "import snowflake.connector\n",
    "from sklearn.model_selection import train_test_split\n",
    "from sklearn.metrics import accuracy_score\n",
    "from sklearn.ensemble import RandomForestClassifier\n",
    "from sklearn.linear_model import LogisticRegression\n",
    "from xgboost import XGBClassifier\n",
    "from sklearn.tree import DecisionTreeClassifier\n",
    "import optuna\n",
    "import joblib"
   ]
  },
  {
   "cell_type": "code",
   "execution_count": 4,
   "metadata": {},
   "outputs": [],
   "source": [
    "\n",
    "# Step 1: Connect to Snowflake and Read Data\n",
    "def read_data_from_snowflake():\n",
    "    conn = snowflake.connector.connect(\n",
    "        user='mudit',\n",
    "        password='Pappu@123',\n",
    "        account='yw44584.ap-southeast-1',\n",
    "        warehouse='COMPUTE_WH',\n",
    "        database='CAPSTONE_PROJECT',\n",
    "        schema='SPORTS'\n",
    "    )\n",
    "    query = \"SELECT * FROM sports_data_final;\"\n",
    "    sports_data = pd.read_sql(query, conn)\n",
    "    conn.close()\n",
    "    return sports_data\n",
    "\n",
    "\n"
   ]
  },
  {
   "cell_type": "code",
   "execution_count": 5,
   "metadata": {},
   "outputs": [],
   "source": [
    "# Step 2: Prepare Data\n",
    "def prepare_data(data):\n",
    "    # Create target column 'Winner'\n",
    "    def determine_winner(row):\n",
    "        if row['Team1_Score'] > row['Team2_Score']:\n",
    "            return 1  # Team1 wins\n",
    "        elif row['Team1_Score'] < row['Team2_Score']:\n",
    "            return 0  # Team2 wins\n",
    "        else:\n",
    "            return 2  # Draw\n",
    "\n",
    "    data['Winner'] = data.apply(determine_winner, axis=1)\n",
    "    # Drop irrelevant columns\n",
    "    features = data.drop(columns=['MatchID', 'Date', 'Location', 'PlayerName', 'Winner'])\n",
    "    target = data['Winner']\n",
    "    return features, target"
   ]
  },
  {
   "cell_type": "code",
   "execution_count": 6,
   "metadata": {},
   "outputs": [],
   "source": [
    "\n",
    "# Step 3: Train and Optimize Models with Optuna\n",
    "def objective(trial, X_train, y_train, X_valid, y_valid):\n",
    "    model_name = trial.suggest_categorical(\"model\", [\"LogisticRegression\", \"RandomForest\", \"XGBoost\"])\n",
    "    \n",
    "    if model_name == \"LogisticRegression\":\n",
    "        C = trial.suggest_float(\"C\", 0.01, 10.0)\n",
    "        model = LogisticRegression(C=C, max_iter=1000)\n",
    "        \n",
    "    elif model_name == \"RandomForest\":\n",
    "        n_estimators = trial.suggest_int(\"n_estimators\", 10, 200)\n",
    "        max_depth = trial.suggest_int(\"max_depth\", 2, 20)\n",
    "        model = RandomForestClassifier(n_estimators=n_estimators, max_depth=max_depth)\n",
    "        \n",
    "    elif model_name == \"XGBoost\":\n",
    "        n_estimators = trial.suggest_int(\"n_estimators\", 10, 200)\n",
    "        learning_rate = trial.suggest_float(\"learning_rate\", 0.01, 0.3)\n",
    "        model = XGBClassifier(n_estimators=n_estimators, learning_rate=learning_rate, use_label_encoder=False, eval_metric='mlogloss')\n",
    "    \n",
    "    model.fit(X_train, y_train)\n",
    "    y_pred = model.predict(X_valid)\n",
    "    accuracy = accuracy_score(y_valid, y_pred)\n",
    "    return accuracy\n",
    "\n",
    "def train_optimize_models(X, y):\n",
    "    X_train, X_valid, y_train, y_valid = train_test_split(X, y, test_size=0.2, random_state=42)\n",
    "    study = optuna.create_study(direction=\"maximize\")\n",
    "    study.optimize(lambda trial: objective(trial, X_train, y_train, X_valid, y_valid), n_trials=30)\n",
    "    \n",
    "    # Retrieve and train the best model\n",
    "    best_params = study.best_params\n",
    "    print(\"Best parameters found by Optuna:\", best_params)\n",
    "    \n",
    "    if best_params['model'] == \"LogisticRegression\":\n",
    "        best_model = LogisticRegression(C=best_params['C'], max_iter=1000)\n",
    "    elif best_params['model'] == \"RandomForest\":\n",
    "        best_model = RandomForestClassifier(n_estimators=best_params['n_estimators'], max_depth=best_params['max_depth'])\n",
    "    elif best_params['model'] == \"XGBoost\":\n",
    "        best_model = XGBClassifier(n_estimators=best_params['n_estimators'], learning_rate=best_params['learning_rate'], use_label_encoder=False, eval_metric='mlogloss')\n",
    "    \n",
    "    best_model.fit(X_train, y_train)\n",
    "    y_pred = best_model.predict(X_valid)\n",
    "    accuracy = accuracy_score(y_valid, y_pred)\n",
    "    print(f\"Accuracy of best model: {accuracy:.2f}\")\n",
    "    \n",
    "    return best_model, study.best_params"
   ]
  },
  {
   "cell_type": "code",
   "execution_count": null,
   "metadata": {},
   "outputs": [],
   "source": [
    "# Step 4: Save the Model\n",
    "def save_model(model, filename):\n",
    "    joblib.dump(model, filename)\n",
    "    print(f\"Model saved as {filename}\")\n"
   ]
  },
  {
   "cell_type": "code",
   "execution_count": null,
   "metadata": {},
   "outputs": [],
   "source": [
    "# Step 5: Point Prediction\n",
    "def point_prediction(model, new_data):\n",
    "    prediction = model.predict(new_data)\n",
    "    return prediction"
   ]
  },
  {
   "cell_type": "code",
   "execution_count": null,
   "metadata": {},
   "outputs": [],
   "source": [
    "# Main Execution\n",
    "if __name__ == \"__main__\":\n",
    "    # Read data\n",
    "    sports_data = read_data_from_snowflake()\n",
    "    \n",
    "    # Prepare features and target\n",
    "    X, y = prepare_data(sports_data)\n",
    "    \n",
    "    # Train and optimize models\n",
    "    best_model, best_params = train_optimize_models(X, y)\n",
    "    \n",
    "    # Save the best model\n",
    "    save_model(best_model, \"models/best_winner_model.sav\")\n",
    "    \n",
    "    # Example: Point Prediction\n",
    "    # Replace with your new data\n",
    "    new_data = X.iloc[0:1]  # Sample new data\n",
    "    prediction = point_prediction(best_model, new_data)\n",
    "    print(f\"Predicted Winner: {prediction}\")"
   ]
  }
 ],
 "metadata": {
  "kernelspec": {
   "display_name": "Python 3",
   "language": "python",
   "name": "python3"
  },
  "language_info": {
   "codemirror_mode": {
    "name": "ipython",
    "version": 3
   },
   "file_extension": ".py",
   "mimetype": "text/x-python",
   "name": "python",
   "nbconvert_exporter": "python",
   "pygments_lexer": "ipython3",
   "version": "3.11.9"
  }
 },
 "nbformat": 4,
 "nbformat_minor": 2
}
